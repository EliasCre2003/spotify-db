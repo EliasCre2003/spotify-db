{
 "cells": [
  {
   "cell_type": "code",
   "execution_count": 5,
   "metadata": {},
   "outputs": [],
   "source": [
    "\"\"\"setup\"\"\"\n",
    "import json\n",
    "from spotifydb import *\n",
    "from IPython.display import display\n",
    "import matplotlib.pyplot as plt\n",
    "import os"
   ]
  },
  {
   "cell_type": "code",
   "execution_count": null,
   "metadata": {},
   "outputs": [],
   "source": [
    "\"\"\"Create tables\"\"\"\n",
    "\n",
    "try: os.remove(\"spotify.db\")\n",
    "except FileNotFoundError: pass\n",
    "connection = connect(\"spotify.db\")\n",
    "cursor = connection.cursor()\n",
    "with open(\"database.sql\", 'r') as f:\n",
    "    cursor.executescript(f.read())\n",
    "connection.commit()\n",
    "connection.close()"
   ]
  },
  {
   "cell_type": "code",
   "execution_count": 3,
   "metadata": {},
   "outputs": [],
   "source": [
    "\"\"\"populate database\"\"\"\n",
    "\n",
    "data_directory = \"data/elias\"\n",
    "\n",
    "# from os import listdir\n",
    "# from os.path import isfile, join\n",
    "# onlyfiles = [f for f in listdir(mypath) if isfile(join(mypath, f))]\n",
    "\n",
    "connection = connect(\"spotify.db\")\n",
    "for filename in os.listdir(data_directory):\n",
    "    with open(f\"{os.path.join(data_directory, filename)}\", 'r', encoding='utf8') as f:\n",
    "        streams = json.load(f)\n",
    "    for stream in streams:\n",
    "        if not add_song_stream(connection, stream):\n",
    "            add_episode_stream(connection, stream)\n",
    "connection.commit()\n",
    "connection.close()"
   ]
  },
  {
   "cell_type": "code",
   "execution_count": null,
   "metadata": {},
   "outputs": [],
   "source": [
    "\"\"\"return all songs ranked by times played\"\"\"\n",
    "\n",
    "query = \"\"\"--sql\n",
    "    SELECT so.song_name as Song, COUNT(so.url) AS \"Times played\"\n",
    "    FROM songs so JOIN song_streams st ON so.url = st.url\n",
    "    GROUP BY so.song_name ORDER BY \"Times played\" DESC;\n",
    "\"\"\"\n",
    "result = run_single_query(query)\n",
    "display(result)"
   ]
  },
  {
   "cell_type": "code",
   "execution_count": null,
   "metadata": {},
   "outputs": [],
   "source": [
    "\"\"\"returns all albums ranked by times played\"\"\"\n",
    "query = \"\"\"--sql\n",
    "    SELECT so.album_name as Album, so.artist_name AS Artist, COUNT(LOWER(so.album_name)) AS \"Times Played\"\n",
    "    FROM songs so JOIN song_streams st ON so.url = st.url\n",
    "    GROUP BY LOWER(so.album_name)\n",
    "    ORDER BY \"Times Played\" DESC\n",
    "    LIMIT 40;\n",
    "\"\"\"\n",
    "result = run_single_query(query)\n",
    "display(result)"
   ]
  },
  {
   "cell_type": "code",
   "execution_count": null,
   "metadata": {},
   "outputs": [],
   "source": [
    "\"\"\"return all songs ranked by times played\"\"\"\n",
    "\n",
    "query = \"\"\"--sql\n",
    "    SELECT so.song_name as Song, COUNT(so.url) AS \"Times played\"\n",
    "    FROM songs so JOIN song_streams st ON so.url = st.url\n",
    "    WHERE st.time_stamp >= '2018-01-01 00:00:00'\n",
    "    GROUP BY so.url, so.song_name ORDER BY \"Times played\" DESC\n",
    "    LIMIT 50;\n",
    "\"\"\"\n",
    "result = run_single_query(query)\n",
    "display(result)"
   ]
  },
  {
   "cell_type": "code",
   "execution_count": null,
   "metadata": {},
   "outputs": [],
   "source": [
    "query = \"\"\"--sql\n",
    "    SELECT so.song_name as Song, so.album_name as Album, COUNT(so.song_name) AS \"Times played\"\n",
    "    FROM songs so JOIN song_streams st ON so.url = st.url\n",
    "    WHERE st.time_stamp >= '2024-01-01 00:00:00'\n",
    "    GROUP BY so.song_name ORDER BY \"Times played\" DESC\n",
    "    LIMIT 50;\n",
    "\"\"\"\n",
    "\n",
    "result = run_single_query(query)\n",
    "display(result)"
   ]
  },
  {
   "cell_type": "code",
   "execution_count": null,
   "metadata": {},
   "outputs": [],
   "source": [
    "\"\"\"return all songs ranked by minutes played\"\"\"\n",
    "query = \"\"\"--sql\n",
    "    SELECT so.artist_name as Artist, Sum(st.ms_listened) / 60000 AS \"Minutes listened\"\n",
    "    FROM songs so JOIN song_streams st ON so.url = st.url\n",
    " \n",
    "    GROUP BY so.artist_name ORDER BY \"Minutes listened\" DESC\n",
    "    LIMIT 50;\n",
    "\"\"\"\n",
    "result = run_single_query(query)\n",
    "display(result)"
   ]
  },
  {
   "cell_type": "code",
   "execution_count": null,
   "metadata": {},
   "outputs": [],
   "source": [
    "query = \"\"\"--sql\n",
    "    SELECT Sum(st.ms_listened) / 60000 AS \"Minutes\"\n",
    "    FROM song_streams st\n",
    "    WHERE st.time_stamp >= '2024-01-01 00:00:00';\n",
    "\"\"\"\n",
    "\n",
    "result = run_single_query(query)\n",
    "display(result)"
   ]
  },
  {
   "cell_type": "code",
   "execution_count": null,
   "metadata": {},
   "outputs": [],
   "source": [
    "query = \"\"\"--sql\n",
    "    SELECT pe.podcast AS Podcast, Count(pe.podcast) AS \"Times Listened\"\n",
    "    FROM podcast_episodes pe JOIN podcast_streams ps ON pe.url = ps.url\n",
    "    WHERE ps.ms_listened >= 120000\n",
    "    GROUP BY pe.podcast ORDER BY \"Times Listened\" DESC;\n",
    "\"\"\"\n",
    "\n",
    "result = run_single_query(query)\n",
    "display(result)"
   ]
  },
  {
   "cell_type": "code",
   "execution_count": null,
   "metadata": {},
   "outputs": [],
   "source": [
    "query = \"\"\"--sql\n",
    "    SELECT pe.podcast AS Podcast, Count(pe.episode) AS \"Number of Episodes\"\n",
    "    FROM podcast_episodes pe\n",
    "    GROUP BY pe.podcast ORDER BY \"Number of Episodes\" DESC;\n",
    "\"\"\"\n",
    "\n",
    "result = run_single_query(query)\n",
    "display(result)"
   ]
  },
  {
   "cell_type": "code",
   "execution_count": null,
   "metadata": {},
   "outputs": [],
   "source": [
    "\n",
    "\n",
    "query = \"\"\"--sql\n",
    "    SELECT strftime('%m', st.time_stamp) AS \"Month of year\", SUM(st.ms_listened) \n",
    "    FROM song_streams st\n",
    "    WHERE st.time_stamp >= '2024-01-01 00:00:00'\n",
    "    ORDER BY \"Hour of day\";\n",
    "\"\"\"\n",
    "\n",
    "result = run_single_query(query)\n",
    "vals = [int(y) for y in result['Month of year']]\n",
    "plt.hist(vals)"
   ]
  }
 ],
 "metadata": {
  "kernelspec": {
   "display_name": "Python 3",
   "language": "python",
   "name": "python3"
  },
  "language_info": {
   "codemirror_mode": {
    "name": "ipython",
    "version": 3
   },
   "file_extension": ".py",
   "mimetype": "text/x-python",
   "name": "python",
   "nbconvert_exporter": "python",
   "pygments_lexer": "ipython3",
   "version": "3.13.0"
  }
 },
 "nbformat": 4,
 "nbformat_minor": 2
}
